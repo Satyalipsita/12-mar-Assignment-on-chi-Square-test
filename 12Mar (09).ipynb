{
 "cells": [
  {
   "cell_type": "code",
   "execution_count": null,
   "id": "d1f6dd61-3556-4c61-aeea-3475f3639a02",
   "metadata": {},
   "outputs": [],
   "source": [
    "To perform a chi-square test on this data, we first need \n",
    "to set up a contingency table with the observed frequencies:\n",
    "\n",
    "Lung cancer (Yes)\tLung cancer (No)\tTotal\n",
    "Smokers\t60\t140\t200\n",
    "Non-smokers\t30\t70\t100\n",
    "Total\t90\t210\t300\n",
    "Next, we need to calculate the expected frequencies\n",
    "assuming that smoking and lung cancer are independent. To do this, we use the formula:\n",
    "    \n",
    "    Expected frequency = (row total * column total) / grand total\n",
    "    \n",
    "    The expected frequencies are:\n",
    "\n",
    "Lung cancer (Yes)\tLung cancer (No)\tTotal\n",
    "Smokers\t54\t146\t200\n",
    "Non-smokers\t36\t64\t100\n",
    "Total\t90\t210\t300\n",
    "\n",
    "\n",
    "χ² = (60 - 54)² / 54 + (30 - 36)² / 36 + (140 - 146)² / 146 + (70 - 64)² / 64\n",
    "χ² = 5.39\n",
    "Using a significance level of 0.05 and 1 degree of freedom \n",
    "(since we have two categories - smokers and non-smokers),\n",
    "we can look up the critical value of the chi-square distribution \n",
    "in a table or using a calculator. The critical value is 3.84.\n",
    "\n",
    "Since our calculated chi-square value of 5.39 is greater than the \n",
    "critical value of 3.84, we reject the null hypothesis and conclude \n",
    "that there is a significant association between smoking and\n",
    "lung cancer at a significance level of 0.05.\n"
   ]
  }
 ],
 "metadata": {
  "kernelspec": {
   "display_name": "Python 3 (ipykernel)",
   "language": "python",
   "name": "python3"
  },
  "language_info": {
   "codemirror_mode": {
    "name": "ipython",
    "version": 3
   },
   "file_extension": ".py",
   "mimetype": "text/x-python",
   "name": "python",
   "nbconvert_exporter": "python",
   "pygments_lexer": "ipython3",
   "version": "3.10.8"
  }
 },
 "nbformat": 4,
 "nbformat_minor": 5
}
