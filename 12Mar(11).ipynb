{
 "cells": [
  {
   "cell_type": "code",
   "execution_count": null,
   "id": "e43ec37e-9fe2-4ff2-934c-3827efe90866",
   "metadata": {},
   "outputs": [],
   "source": [
    "To perform a hypothesis test, we need to state our null and alternative hypotheses:\n",
    "\n",
    "Null hypothesis (H0): The population mean is equal to 70.\n",
    "Alternative hypothesis (Ha): The population mean is slightly different from 70.\n",
    "We will use a two-tailed t-test because we don't know the population standard deviation \n",
    "and the sample size is less than 30.\n",
    "\n",
    "The test statistic is calculated as:\n",
    "\n",
    "t = (x̄ - μ) / (s / sqrt(n))\n",
    "\n",
    "where x̄ is the sample mean, μ is the hypothesized population mean,\n",
    "s is the sample standard deviation, and n is the sample size.\n",
    "\n",
    "Plugging in the values, we get:\n",
    "\n",
    "t = (72 - 70) / (10 / sqrt(30)) = 1.095\n",
    "\n",
    "We need to compare this t-value with the critical t-value from\n",
    "the t-distribution table with degrees of freedom (df) = n - 1 = 29 and \n",
    "significance level α = 0.05/2 (since it's a two-tailed test).\n",
    "\n",
    "The critical t-value for a two-tailed test with 29 degrees of\n",
    "freedom and significance level of 0.025 is 2.045.\n",
    "\n",
    "Since our calculated t-value of 1.095 is less than\n",
    "                               \n",
    "the critical t-value of 2.045, we fail to reject the null hypothesis. \n",
    "This means we do not have enough evidence\n",
    "to conclude that the population mean is different from 70 at\n",
    "a significance level of 0.05.\n",
    "\n",
    "Therefore, we cannot conclude that the population mean \n",
    "is slightly different from 70 based on the given sample data."
   ]
  }
 ],
 "metadata": {
  "kernelspec": {
   "display_name": "Python 3 (ipykernel)",
   "language": "python",
   "name": "python3"
  },
  "language_info": {
   "codemirror_mode": {
    "name": "ipython",
    "version": 3
   },
   "file_extension": ".py",
   "mimetype": "text/x-python",
   "name": "python",
   "nbconvert_exporter": "python",
   "pygments_lexer": "ipython3",
   "version": "3.10.8"
  }
 },
 "nbformat": 4,
 "nbformat_minor": 5
}
