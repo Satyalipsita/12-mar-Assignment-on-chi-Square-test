{
 "cells": [
  {
   "cell_type": "code",
   "execution_count": 1,
   "id": "4158502d-869b-4f1d-90dc-90cf644ac01d",
   "metadata": {},
   "outputs": [
    {
     "name": "stdout",
     "output_type": "stream",
     "text": [
      "Sample Mean: 50\n",
      "Sample Standard Deviation: 5\n",
      "Sample Size: 100\n",
      "Standard Error of the Mean: 0.5\n",
      "Margin of Error (95% CI): 0.98\n",
      "95% Confidence Interval: (49.02, 50.98)\n"
     ]
    }
   ],
   "source": [
    "import math\n",
    "\n",
    "sample_mean = 50\n",
    "sample_std_dev = 5\n",
    "sample_size = 100 #assuming a sample size of 100 for the example\n",
    "\n",
    "#Calculate the standard error of the mean (SEM)\n",
    "sem = sample_std_dev / math.sqrt(sample_size)\n",
    "\n",
    "#Calculate the margin of error (MOE)\n",
    "moe = 1.96 * sem  #Using z-value of 1.96 for 95% CI\n",
    "\n",
    "#Calculate the confidence interval\n",
    "ci_lower = sample_mean - moe\n",
    "ci_upper = sample_mean + moe\n",
    "\n",
    "#Print the results\n",
    "print(\"Sample Mean:\", sample_mean)\n",
    "print(\"Sample Standard Deviation:\", sample_std_dev)\n",
    "print(\"Sample Size:\", sample_size)\n",
    "print(\"Standard Error of the Mean:\", sem)\n",
    "print(\"Margin of Error (95% CI):\", moe)\n",
    "print(\"95% Confidence Interval:\", (ci_lower, ci_upper))\n"
   ]
  },
  {
   "cell_type": "code",
   "execution_count": null,
   "id": "de7db147-9cc7-416b-a6f8-e41a57bf4b75",
   "metadata": {},
   "outputs": [],
   "source": []
  }
 ],
 "metadata": {
  "kernelspec": {
   "display_name": "Python 3 (ipykernel)",
   "language": "python",
   "name": "python3"
  },
  "language_info": {
   "codemirror_mode": {
    "name": "ipython",
    "version": 3
   },
   "file_extension": ".py",
   "mimetype": "text/x-python",
   "name": "python",
   "nbconvert_exporter": "python",
   "pygments_lexer": "ipython3",
   "version": "3.10.8"
  }
 },
 "nbformat": 4,
 "nbformat_minor": 5
}
