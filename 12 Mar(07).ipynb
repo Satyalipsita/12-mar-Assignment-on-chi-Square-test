{
 "cells": [
  {
   "cell_type": "code",
   "execution_count": 1,
   "id": "fe4a1a9c-ae54-4bfd-8957-c2239d94001b",
   "metadata": {},
   "outputs": [
    {
     "name": "stdout",
     "output_type": "stream",
     "text": [
      "The 99% confidence interval for the true proportion of people who like coke is (0.4793, 0.5607)\n"
     ]
    }
   ],
   "source": [
    "import scipy.stats as stats\n",
    "import math\n",
    "\n",
    "# Define the sample size and proportion of people who like coke\n",
    "n = 1000\n",
    "p = 520 / n\n",
    "\n",
    "# Calculate the standard error and margin of error\n",
    "std_error = math.sqrt(p * (1 - p) / n)\n",
    "margin_of_error = stats.norm.ppf(0.995) * std_error\n",
    "\n",
    "# Calculate the lower and upper bounds of the confidence interval\n",
    "lower_bound = p - margin_of_error\n",
    "upper_bound = p + margin_of_error\n",
    "\n",
    "print(\"The 99% confidence interval for the true proportion of people who like coke is ({:.4f}, {:.4f})\".format(lower_bound, upper_bound))\n"
   ]
  },
  {
   "cell_type": "code",
   "execution_count": null,
   "id": "035bf2bf-183d-488f-9ed6-7d176e51bbef",
   "metadata": {},
   "outputs": [],
   "source": []
  }
 ],
 "metadata": {
  "kernelspec": {
   "display_name": "Python 3 (ipykernel)",
   "language": "python",
   "name": "python3"
  },
  "language_info": {
   "codemirror_mode": {
    "name": "ipython",
    "version": 3
   },
   "file_extension": ".py",
   "mimetype": "text/x-python",
   "name": "python",
   "nbconvert_exporter": "python",
   "pygments_lexer": "ipython3",
   "version": "3.10.8"
  }
 },
 "nbformat": 4,
 "nbformat_minor": 5
}
