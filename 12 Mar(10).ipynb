{
 "cells": [
  {
   "cell_type": "code",
   "execution_count": null,
   "id": "1e69acd9-b2a6-4873-bf31-dc808d9c99c9",
   "metadata": {},
   "outputs": [],
   "source": [
    "To perform a chi-square test to determine if there is an association between chocolate preference and location, we need to set up the null and alternative hypotheses as follows:\n",
    "\n",
    "Null hypothesis: There is no association between chocolate preference and location.\n",
    "Alternative hypothesis: There is an association between chocolate preference and location.\n",
    "Next, we need to calculate the expected frequencies under the null hypothesis. \n",
    "To do this, we need to calculate the row and column totals and the grand total,\n",
    "and then use these values to calculate the expected frequencies.\n",
    "\n",
    "Location\tMilk chocolate\tDark chocolate\tWhite chocolate\tRow total\n",
    "UK\t200\t150\t150\t500\n",
    "USA\t225\t175\t100\t500\n",
    "Column total\t425\t325\t250\t1000\n",
    "The expected frequencies are:\n",
    "\n",
    "Location\tMilk chocolate\tDark chocolate\tWhite chocolate\n",
    "UK\t212.5\t162.5\t125\n",
    "USA\t212.5\t162.5\t125\n",
    "We can now set up a table of observed and expected frequencies:\n",
    "\n",
    "Milk chocolate\tDark chocolate\tWhite chocolate\n",
    "UK\t200\t150\t150\n",
    "Expected count\t212.5\t162.5\t125\n",
    "USA\t225\t175\t100\n",
    "Expected count\t212.5\t162.5\t125\n",
    "To calculate the chi-square statistic, we use the following formula:\n",
    "    chi-square = sum((observed - expected)^2 / expected)\n",
    "chi-square = ((200-212.5)^2/212.5) + ((150-162.5)^2/162.5) + ((150-125)^2/125) + ((225-212.5)^2/212.5) + ((175-162.5)^2/162.5) + ((100-125)^2/125)\n",
    "           = 9.235\n",
    "\n",
    "The degrees of freedom for a contingency table with two rows and three columns are (2-1) * (3-1) = 2. Using a significance level of 0.05 and 2 degrees of freedom, we can look up the critical value of the chi-square distribution\n",
    "in a chi-square table or calculator, which is 5.99 a sthis value us grater the null hypothesis is rejected ."
   ]
  }
 ],
 "metadata": {
  "kernelspec": {
   "display_name": "Python 3 (ipykernel)",
   "language": "python",
   "name": "python3"
  },
  "language_info": {
   "codemirror_mode": {
    "name": "ipython",
    "version": 3
   },
   "file_extension": ".py",
   "mimetype": "text/x-python",
   "name": "python",
   "nbconvert_exporter": "python",
   "pygments_lexer": "ipython3",
   "version": "3.10.8"
  }
 },
 "nbformat": 4,
 "nbformat_minor": 5
}
