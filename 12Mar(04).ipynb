{
 "cells": [
  {
   "cell_type": "code",
   "execution_count": 1,
   "id": "a1446b05-4c62-44df-b557-a1413d405ed1",
   "metadata": {},
   "outputs": [
    {
     "name": "stdout",
     "output_type": "stream",
     "text": [
      "Sample size: 500\n",
      "Number of individuals who smoke in the sample: 60\n",
      "Sample proportion: 0.1200\n",
      "Standard error of the sample proportion: 0.0145\n",
      "Margin of error for a 95% confidence interval: 0.0285\n",
      "95% confidence interval: (0.0915, 0.1485)\n"
     ]
    }
   ],
   "source": [
    "import math\n",
    "\n",
    "# Sample size\n",
    "n = 500\n",
    "\n",
    "# Number of individuals who smoke in the sample\n",
    "x = 60\n",
    "\n",
    "# Sample proportion\n",
    "p = x / n\n",
    "\n",
    "# Standard error of the sample proportion\n",
    "se = math.sqrt((p * (1 - p)) / n)\n",
    "\n",
    "# Margin of error for a 95% confidence interval (z-value = 1.96)\n",
    "me = 1.96 * se\n",
    "\n",
    "# 95% confidence interval\n",
    "lower_bound = p - me\n",
    "upper_bound = p + me\n",
    "\n",
    "print(\"Sample size: {}\".format(n))\n",
    "print(\"Number of individuals who smoke in the sample: {}\".format(x))\n",
    "print(\"Sample proportion: {:.4f}\".format(p))\n",
    "print(\"Standard error of the sample proportion: {:.4f}\".format(se))\n",
    "print(\"Margin of error for a 95% confidence interval: {:.4f}\".format(me))\n",
    "print(\"95% confidence interval: ({:.4f}, {:.4f})\".format(lower_bound, upper_bound))\n"
   ]
  },
  {
   "cell_type": "code",
   "execution_count": null,
   "id": "cbadf519-4607-48b4-811a-654345c47d60",
   "metadata": {},
   "outputs": [],
   "source": []
  }
 ],
 "metadata": {
  "kernelspec": {
   "display_name": "Python 3 (ipykernel)",
   "language": "python",
   "name": "python3"
  },
  "language_info": {
   "codemirror_mode": {
    "name": "ipython",
    "version": 3
   },
   "file_extension": ".py",
   "mimetype": "text/x-python",
   "name": "python",
   "nbconvert_exporter": "python",
   "pygments_lexer": "ipython3",
   "version": "3.10.8"
  }
 },
 "nbformat": 4,
 "nbformat_minor": 5
}
