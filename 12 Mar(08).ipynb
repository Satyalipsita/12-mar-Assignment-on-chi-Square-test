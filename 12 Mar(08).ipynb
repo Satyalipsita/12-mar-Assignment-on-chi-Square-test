{
 "cells": [
  {
   "cell_type": "code",
   "execution_count": null,
   "id": "db1d04b5-aa56-4d0e-b9c9-6a1ce298dbab",
   "metadata": {},
   "outputs": [],
   "source": [
    "To perform a chi-square test to determine if the coin is biased towards tails,  \n",
    "we need to set up the null and alternative hypotheses as follows:\n",
    "\n",
    "Null hypothesis: The coin is unbiased and has a 50/50 chance of landing heads or tails.\n",
    "Alternative hypothesis: The coin is biased towards tails.\n",
    "Next, we need to calculate the expected frequencies under the null hypothesis. \n",
    "Since we flipped the coin 100 times, we would expect to see 50 heads and 50\n",
    "tails if the coin were unbiased. Therefore, the expected frequency of tails is 50.\n",
    "\n",
    "Now, we can set up a table of observed and expected frequencies:\n",
    "\n",
    "Outcome\tObserved frequency\tExpected frequency\n",
    "Tails\t45\t50\n",
    "Heads\t55\t50\n",
    " cformula---χ² = Σ (observed frequency - expected frequency)² / expected frequency\n",
    "    \n",
    "    χ² = (45 - 50)² / 50 + (55 - 50)² / 50\n",
    "    χ² = 1.25\n",
    "Using a significance level of 0.05 and 1 degree of freedom\n",
    "(since there are only two possible outcomes - \n",
    " heads or tails), we can look up the critical \n",
    "value of the chi-square distribution in a table or \n",
    "using a calculator. The critical value is 3.84.\n",
    "\n",
    "Since our calculated chi-square value of 1.25 is less \n",
    "than the critical value of 3.84, we fail to reject the null \n",
    "hypothesis. This means that there is not enough evidence to \n",
    "suggest that the coin is biased towards tails at a significance level of 0.05."
   ]
  }
 ],
 "metadata": {
  "kernelspec": {
   "display_name": "Python 3 (ipykernel)",
   "language": "python",
   "name": "python3"
  },
  "language_info": {
   "codemirror_mode": {
    "name": "ipython",
    "version": 3
   },
   "file_extension": ".py",
   "mimetype": "text/x-python",
   "name": "python",
   "nbconvert_exporter": "python",
   "pygments_lexer": "ipython3",
   "version": "3.10.8"
  }
 },
 "nbformat": 4,
 "nbformat_minor": 5
}
