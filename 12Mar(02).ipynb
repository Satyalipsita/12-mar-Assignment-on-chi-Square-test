{
 "cells": [
  {
   "cell_type": "code",
   "execution_count": 1,
   "id": "2d1f93ea-2b43-4882-a6fa-db95623d7f17",
   "metadata": {},
   "outputs": [
    {
     "name": "stdout",
     "output_type": "stream",
     "text": [
      "Observed Frequencies: [20, 20, 20, 10, 10, 20]\n",
      "Expected Frequencies: [20.0, 20.0, 20.0, 10.0, 10.0, 20.0]\n",
      "Chi-Square Statistic: 0.0\n",
      "P-Value: 1.0\n",
      "The test result is not statistically significant at the 0.05 level. There is not enough evidence to reject the null hypothesis.\n"
     ]
    }
   ],
   "source": [
    "import scipy.stats as stats\n",
    "\n",
    "# Define the observed frequencies\n",
    "observed_freq = [20, 20, 20, 10, 10, 20]\n",
    "\n",
    "# Define the expected frequencies\n",
    "expected_freq = [0.2, 0.2, 0.2, 0.1, 0.1, 0.2]\n",
    "\n",
    "# Calculate the expected counts\n",
    "total_count = sum(observed_freq)\n",
    "expected_counts = [count * total_count for count in expected_freq]\n",
    "\n",
    "# Perform the chi-square test\n",
    "chi_square_stat, p_value = stats.chisquare(observed_freq, expected_counts)\n",
    "\n",
    "# Print the results\n",
    "print(\"Observed Frequencies:\", observed_freq)\n",
    "print(\"Expected Frequencies:\", expected_counts)\n",
    "print(\"Chi-Square Statistic:\", chi_square_stat)\n",
    "print(\"P-Value:\", p_value)\n",
    "\n",
    "if p_value < 0.05:\n",
    "    print(\"The test result is statistically significant at the 0.05 level. There is evidence to reject the null hypothesis.\")\n",
    "else:\n",
    "    print(\"The test result is not statistically significant at the 0.05 level. There is not enough evidence to reject the null hypothesis.\")\n"
   ]
  },
  {
   "cell_type": "code",
   "execution_count": null,
   "id": "0ff177af-2448-4031-9947-73822d7581dd",
   "metadata": {},
   "outputs": [],
   "source": []
  }
 ],
 "metadata": {
  "kernelspec": {
   "display_name": "Python 3 (ipykernel)",
   "language": "python",
   "name": "python3"
  },
  "language_info": {
   "codemirror_mode": {
    "name": "ipython",
    "version": 3
   },
   "file_extension": ".py",
   "mimetype": "text/x-python",
   "name": "python",
   "nbconvert_exporter": "python",
   "pygments_lexer": "ipython3",
   "version": "3.10.8"
  }
 },
 "nbformat": 4,
 "nbformat_minor": 5
}
